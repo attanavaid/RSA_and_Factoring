{
 "cells": [
  {
   "cell_type": "code",
   "execution_count": 1,
   "id": "2522aeaa",
   "metadata": {},
   "outputs": [],
   "source": [
    "import random\n",
    "import time\n",
    "import math\n",
    "import csv"
   ]
  },
  {
   "cell_type": "code",
   "execution_count": 2,
   "id": "f7d67fb3",
   "metadata": {},
   "outputs": [
    {
     "name": "stdout",
     "output_type": "stream",
     "text": [
      "Final Project: Part 2\n",
      "\n",
      "Finding a factor for test80...\n",
      "\n",
      "Pollard's Rho determined that one of the divisors for test80 is 104252441789 in 0.6235268115997314 seconds.\n",
      "\n",
      "========= END =========\n"
     ]
    }
   ],
   "source": [
    "def POLLARD_RHO(n):\n",
    "        if ((n % 2) == 0):\n",
    "            return 2\n",
    "\n",
    "        i = 0\n",
    "        curr = random.randint(0, n - 1)\n",
    "        y = curr\n",
    "        k = 2\n",
    "\n",
    "        while (1):\n",
    "            i = i + 1\n",
    "            next = (pow(curr, 2) - 1) % n\n",
    "            d = math.gcd((y - next), n)\n",
    "\n",
    "            if (d != 1) and (d != n):\n",
    "                return d\n",
    "            \n",
    "            if (i == k):\n",
    "                y = next\n",
    "                k = 2 * k\n",
    "            \n",
    "            curr = next\n",
    "        \n",
    "        return 1\n",
    "\n",
    "def POLLARD_P_MINUS_1(n, B):\n",
    "        a = 2\n",
    "        j = 2\n",
    "\n",
    "        while (j <= B):\n",
    "            a = (pow(a, j)) % n\n",
    "            d = math.gcd((a - 1), n)\n",
    "\n",
    "            if (d > 1) and (d < n):\n",
    "                return d\n",
    "\n",
    "            j = j + 1\n",
    "        \n",
    "        return 1\n",
    "\n",
    "def SQUARE_ROOT_TRIVIAL_DIVISION(n):\n",
    "        p = math.isqrt(n)\n",
    "\n",
    "        if (pow(p, 2) == n):\n",
    "            return p\n",
    "\n",
    "        if ((p % 2) == 0):\n",
    "            p = p + 1\n",
    "\n",
    "        while ((n % p) != 0):\n",
    "            p = p + 2\n",
    "\n",
    "        if (p == n):\n",
    "            return 1\n",
    "        \n",
    "        return p\n",
    "                \n",
    "if __name__ == \"__main__\":\n",
    "    with open(\"all-moduli.csv\") as moduliFile:\n",
    "        moduli = csv.reader(moduliFile, delimiter = \",\")\n",
    "        lineNum = 0\n",
    "        for modulus in moduli:\n",
    "            if (lineNum == 0):\n",
    "                print(\"Final Project: Part 2\\n\")\n",
    "            \n",
    "            elif (lineNum == 1):\n",
    "                print(f\"Finding a factor for {modulus[0]}...\")\n",
    "                start_time = time.time()\n",
    "                d = POLLARD_RHO(int(modulus[1]))\n",
    "                print(f\"\\nPollard's Rho determined that one of the divisors for {modulus[0]} is {d} in {time.time() - start_time} seconds.\\n\")\n",
    "                #d = POLLARD_P_MINUS_1(int(modulus[1]), pow(2, 10))\n",
    "                #print(f\"\\nPollard's P-1 method determined that one of the divisors for {modulus[0]} is {d} in {time.time() - start_time} seconds.\\n\")\n",
    "                #d = SQUARE_ROOT_TRIVIAL_DIVISION(int(modulus[1]))\n",
    "                #print(f\"\\nUsing square root trivial division, the program determined that one of the divisors for {modulus[0]} is {d} in {time.time() - start_time} seconds.\\n\")\n",
    "\n",
    "            lineNum = lineNum + 1\n",
    "    \n",
    "    print(\"========= END =========\")"
   ]
  }
 ],
 "metadata": {
  "kernelspec": {
   "display_name": "Python 3",
   "language": "python",
   "name": "python3"
  },
  "language_info": {
   "codemirror_mode": {
    "name": "ipython",
    "version": 3
   },
   "file_extension": ".py",
   "mimetype": "text/x-python",
   "name": "python",
   "nbconvert_exporter": "python",
   "pygments_lexer": "ipython3",
   "version": "3.8.8"
  }
 },
 "nbformat": 4,
 "nbformat_minor": 5
}
